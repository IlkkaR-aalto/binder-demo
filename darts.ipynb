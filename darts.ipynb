{
 "cells": [
  {
   "cell_type": "markdown",
   "id": "5ec2cca6-ccd0-414a-8d46-c5f6e42788ab",
   "metadata": {},
   "source": [
    "## Relevant formulas\\n\n",
    "\\n\n",
    "- square area: $s = (2 r)^2$\\n\n",
    "- circle area: $c = \\\\pi r^2$\\n\n",
    "- $c/s = (\\\\pi r^2) / (4 r^2) = \\\\pi / 4$\\n\n",
    "- $\\\\pi = 4 * c/s$"
   ]
  },
  {
   "cell_type": "code",
   "execution_count": 11,
   "id": "1ecef769-f5cb-4721-9b6c-af08dcb6420f",
   "metadata": {},
   "outputs": [],
   "source": [
    "# importing modules that we will need\n",
    "\n",
    "import random\n",
    "import matplotlib.pyplot as plt"
   ]
  },
  {
   "cell_type": "code",
   "execution_count": 16,
   "id": "cc700ead-5841-4d8e-9047-cec9c64f2708",
   "metadata": {},
   "outputs": [],
   "source": [
    "# initializing the number of \"throws\"\n",
    "\n",
    "num_points = 100000"
   ]
  },
  {
   "cell_type": "code",
   "execution_count": 17,
   "id": "b43a4e3f-eba4-47f8-a236-bbded5717c70",
   "metadata": {},
   "outputs": [],
   "source": [
    "# here we \"throw darts\" and count the number of hits\n",
    "\n",
    "points = []\n",
    "hits = 0\n",
    "for _ in range(num_points):\n",
    "    x, y = random.random(), random.random()\n",
    "    if x*x + y*y < 1.0:\n",
    "        hits += 1\n",
    "        points.append((x, y, \"red\"))\n",
    "    else:\n",
    "        points.append((x, y, \"blue\"))"
   ]
  },
  {
   "cell_type": "code",
   "execution_count": 19,
   "id": "342a12c9-b626-4af6-b94a-e69acd4e6534",
   "metadata": {},
   "outputs": [
    {
     "data": {
      "text/plain": [
       "<matplotlib.collections.PathCollection at 0x1a8b7e3dcd0>"
      ]
     },
     "execution_count": 19,
     "metadata": {},
     "output_type": "execute_result"
    },
    {
     "data": {
      "image/png": "[encoded data removed]",
      "text/plain": [
       "<Figure size 432x432 with 1 Axes>"
      ]
     },
     "metadata": {
      "needs_background": "light"
     },
     "output_type": "display_data"
    }
   ],
   "source": [
    "# unzip points into 3 lists\n",
    "x, y, colors = zip(*points)\n",
    "\n",
    "# define figure dimensions\n",
    "fig, ax = plt.subplots()\n",
    "fig.set_size_inches(6.0, 6.0)\n",
    "\n",
    "# plot results\n",
    "ax.scatter(x, y, c=colors)"
   ]
  },
  {
   "cell_type": "code",
   "execution_count": 20,
   "id": "7f9ccbc8-72dd-4fa6-8658-29913060a8cc",
   "metadata": {},
   "outputs": [
    {
     "data": {
      "text/plain": [
       "3.1415232"
      ]
     },
     "execution_count": 20,
     "metadata": {},
     "output_type": "execute_result"
    }
   ],
   "source": [
    "# compute and print the estimate\n",
    "\n",
    "fraction = hits / num_points\n",
    "4 * fraction"
   ]
  },
  {
   "cell_type": "code",
   "execution_count": null,
   "id": "35165355-81b1-4bb0-970f-63f662738c13",
   "metadata": {},
   "outputs": [],
   "source": []
  }
 ],
 "metadata": {
  "kernelspec": {
   "display_name": "Python 3",
   "language": "python",
   "name": "python3"
  },
  "language_info": {
   "codemirror_mode": {
    "name": "ipython",
    "version": 3
   },
   "file_extension": ".py",
   "mimetype": "text/x-python",
   "name": "python",
   "nbconvert_exporter": "python",
   "pygments_lexer": "ipython3",
   "version": "3.9.2"
  }
 },
 "nbformat": 4,
 "nbformat_minor": 5
}
